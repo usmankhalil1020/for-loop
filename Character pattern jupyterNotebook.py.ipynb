{
 "cells": [
  {
   "cell_type": "code",
   "execution_count": 1,
   "id": "72299000-8bef-48b5-9fd2-6ce0492e30e5",
   "metadata": {},
   "outputs": [
    {
     "name": "stdout",
     "output_type": "stream",
     "text": [
      "A \n",
      "A A \n",
      "A A A \n",
      "A A A A \n",
      "A A A A A \n"
     ]
    }
   ],
   "source": [
    "n=5\n",
    "for i in range(n):\n",
    "    for j in range(i+1):\n",
    "        print(\"A\",end=\" \")\n",
    "    print()"
   ]
  },
  {
   "cell_type": "code",
   "execution_count": 2,
   "id": "597ffce7-31a3-4515-9363-1166816843fc",
   "metadata": {},
   "outputs": [
    {
     "name": "stdout",
     "output_type": "stream",
     "text": [
      "U \n",
      "U U \n",
      "U U U \n",
      "U U U U \n",
      "U U U U U \n"
     ]
    }
   ],
   "source": [
    "n=5\n",
    "for i in range(n):\n",
    "    for j in range(i+1):\n",
    "        print(\"U\",end=\" \")\n",
    "    print()"
   ]
  },
  {
   "cell_type": "code",
   "execution_count": 3,
   "id": "00a9c0aa-1a02-4069-8316-d126db2ec8ab",
   "metadata": {},
   "outputs": [
    {
     "name": "stdout",
     "output_type": "stream",
     "text": [
      "A A A A \n",
      "A A A \n",
      "A A \n",
      "A \n",
      "\n"
     ]
    }
   ],
   "source": [
    "n=5\n",
    "for i in range(n):\n",
    "    for j in range(i,n-1):\n",
    "        print(\"A\",end=\" \")\n",
    "    print()"
   ]
  },
  {
   "cell_type": "code",
   "execution_count": 4,
   "id": "45d27bac-eea8-4aea-a657-7be914454941",
   "metadata": {},
   "outputs": [
    {
     "name": "stdout",
     "output_type": "stream",
     "text": [
      "\n",
      "A \n",
      "A A \n",
      "A A A \n",
      "A A A A \n"
     ]
    }
   ],
   "source": [
    "n=5\n",
    "for i in range(n):\n",
    "    for j in range(i):\n",
    "        print(\"A\",end=\" \")\n",
    "    print()"
   ]
  },
  {
   "cell_type": "code",
   "execution_count": 6,
   "id": "e152b7d0-7db7-4f37-aa8f-5f9ef69d44f8",
   "metadata": {},
   "outputs": [
    {
     "name": "stdout",
     "output_type": "stream",
     "text": [
      "A \n",
      "B B \n",
      "C C C \n",
      "D D D D \n",
      "E E E E E \n"
     ]
    }
   ],
   "source": [
    "n=5\n",
    "p=65\n",
    "for i in range(n):\n",
    "    for j in range(i+1):\n",
    "        print(chr(p),end=\" \")\n",
    "    p+=1    \n",
    "    print()"
   ]
  },
  {
   "cell_type": "code",
   "execution_count": 8,
   "id": "6824ec28-3264-4fde-a9e4-460d81fd12a7",
   "metadata": {},
   "outputs": [
    {
     "name": "stdout",
     "output_type": "stream",
     "text": [
      "B B B B B \n",
      "C C C C \n",
      "D D D \n",
      "E E \n",
      "F \n"
     ]
    }
   ],
   "source": [
    "n=5\n",
    "p=66\n",
    "for i in range(n):\n",
    "    for j in range(i,n):\n",
    "        print(chr(p),end=\" \")\n",
    "    p+=1    \n",
    "    print()"
   ]
  },
  {
   "cell_type": "code",
   "execution_count": 9,
   "id": "ad0b0b82-1d06-4fd4-8ffd-7279e720d992",
   "metadata": {},
   "outputs": [
    {
     "name": "stdout",
     "output_type": "stream",
     "text": [
      "E E E E E \n",
      "F F F F \n",
      "G G G \n",
      "H H \n",
      "I \n"
     ]
    }
   ],
   "source": [
    "n=5\n",
    "p=69\n",
    "for i in range(n):\n",
    "    for j in range(i,n):\n",
    "        print(chr(p),end=\" \")\n",
    "    p+=1    \n",
    "    print()"
   ]
  },
  {
   "cell_type": "code",
   "execution_count": 10,
   "id": "54baa071-007e-4760-91d4-20dcdff31171",
   "metadata": {},
   "outputs": [
    {
     "name": "stdout",
     "output_type": "stream",
     "text": [
      "E E E E E \n",
      "D D D D \n",
      "C C C \n",
      "B B \n",
      "A \n"
     ]
    }
   ],
   "source": [
    "n=5\n",
    "p=69\n",
    "for i in range(n):\n",
    "    for j in range(i,n):\n",
    "        print(chr(p),end=\" \")\n",
    "    p-=1   \n",
    "    print()"
   ]
  },
  {
   "cell_type": "code",
   "execution_count": 11,
   "id": "b9f66a27-1690-4a72-8974-c225391a12ab",
   "metadata": {},
   "outputs": [
    {
     "name": "stdout",
     "output_type": "stream",
     "text": [
      "A \n",
      "C C \n",
      "E E E \n",
      "G G G G \n",
      "I I I I I \n"
     ]
    }
   ],
   "source": [
    "n=5\n",
    "p=65\n",
    "for i in range(n):\n",
    "    for j in range(i+1):\n",
    "        print(chr(p),end=\" \")\n",
    "    p+=2    \n",
    "    print()"
   ]
  },
  {
   "cell_type": "code",
   "execution_count": 15,
   "id": "fc67aee0-cd44-422f-8616-68e0f2bc74d1",
   "metadata": {},
   "outputs": [
    {
     "name": "stdout",
     "output_type": "stream",
     "text": [
      "J J J J J \n",
      "H H H H \n",
      "F F F \n",
      "D D \n",
      "B \n"
     ]
    }
   ],
   "source": [
    "n=5\n",
    "p=74\n",
    "for i in range(n):\n",
    "    for j in range(i,n):\n",
    "        print(chr(p),end=\" \")\n",
    "    p-=2    \n",
    "    print()"
   ]
  },
  {
   "cell_type": "code",
   "execution_count": 17,
   "id": "b10a85e3-8c73-4238-9d8c-18f18bad4a1e",
   "metadata": {},
   "outputs": [
    {
     "name": "stdout",
     "output_type": "stream",
     "text": [
      "A \n",
      "D D \n",
      "G G G \n",
      "J J J J \n",
      "M M M M M \n"
     ]
    }
   ],
   "source": [
    "n=5\n",
    "p=65\n",
    "for i in range(n):\n",
    "    for j in range(i+1):\n",
    "        print(chr(p),end=\" \")\n",
    "    p+=3    \n",
    "    print()"
   ]
  },
  {
   "cell_type": "code",
   "execution_count": 18,
   "id": "980a690d-207a-4bd0-9293-07e103416b49",
   "metadata": {},
   "outputs": [
    {
     "name": "stdout",
     "output_type": "stream",
     "text": [
      "A \n",
      "B B \n",
      "A A A \n",
      "B B B B \n",
      "A A A A A \n"
     ]
    }
   ],
   "source": [
    "n=5\n",
    "for i in range(n):\n",
    "    for j in range(i+1):\n",
    "        if(i % 2 ==0):\n",
    "            print(\"A\",end=\" \")\n",
    "        else:\n",
    "            print(\"B\",end=\" \")\n",
    "    print()"
   ]
  },
  {
   "cell_type": "code",
   "execution_count": 20,
   "id": "1000df8b-1b95-4ed4-afb3-0527f921d01b",
   "metadata": {},
   "outputs": [
    {
     "name": "stdout",
     "output_type": "stream",
     "text": [
      "U U U U U \n",
      "S S S S \n",
      "U U U \n",
      "S S \n",
      "U \n"
     ]
    }
   ],
   "source": [
    "n=5\n",
    "for i in range(n):\n",
    "    for j in range(i,n):\n",
    "        if(i % 2 ==0):\n",
    "            print(\"U\",end=\" \")\n",
    "        else:\n",
    "            print(\"S\",end=\" \")\n",
    "    print()"
   ]
  },
  {
   "cell_type": "code",
   "execution_count": 21,
   "id": "2811ae67-5257-4099-ae9c-0cbc4b273271",
   "metadata": {},
   "outputs": [
    {
     "name": "stdout",
     "output_type": "stream",
     "text": [
      "S \n",
      "U U \n",
      "S S S \n",
      "U U U U \n",
      "S S S S S \n"
     ]
    }
   ],
   "source": [
    "n=5\n",
    "for i in range(n):\n",
    "    for j in range(i+1):\n",
    "        if(i % 2 !=0):\n",
    "            print(\"U\",end=\" \")\n",
    "        else:\n",
    "            print(\"S\",end=\" \")\n",
    "    print()"
   ]
  },
  {
   "cell_type": "code",
   "execution_count": 22,
   "id": "a95dfc23-9bd4-4e0f-895d-31afb801325a",
   "metadata": {},
   "outputs": [
    {
     "name": "stdout",
     "output_type": "stream",
     "text": [
      "2 \n",
      "4 4 \n",
      "2 2 2 \n",
      "4 4 4 4 \n",
      "2 2 2 2 2 \n"
     ]
    }
   ],
   "source": [
    "n=5\n",
    "for i in range(n):\n",
    "    for j in range(i+1):\n",
    "        if(i % 2 ==0):\n",
    "            print(\"2\",end=\" \")\n",
    "        else:\n",
    "            print(\"4\",end=\" \")\n",
    "    print()"
   ]
  },
  {
   "cell_type": "code",
   "execution_count": 24,
   "id": "990d2dc1-b2b1-43e9-8908-ff2936204ad9",
   "metadata": {},
   "outputs": [
    {
     "name": "stdout",
     "output_type": "stream",
     "text": [
      "z z z z z \n",
      "  0 0 0 0 \n",
      "    z z z \n",
      "      0 0 \n",
      "        z \n"
     ]
    }
   ],
   "source": [
    "n=5\n",
    "for i in range(n):\n",
    "    for j in range(i):\n",
    "        print(\" \",end=\" \")\n",
    "    for j in range(i,n):\n",
    "        if(i % 2==0):\n",
    "            print(\"z\",end=\" \")\n",
    "        else:\n",
    "            print(\"0\",end=\" \")\n",
    "    print()"
   ]
  },
  {
   "cell_type": "code",
   "execution_count": 27,
   "id": "063ffa99-a374-4f8c-8220-3d80a92465e8",
   "metadata": {},
   "outputs": [
    {
     "name": "stdout",
     "output_type": "stream",
     "text": [
      "          A \n",
      "        B B B \n",
      "      C C C C C \n",
      "    D D D D D D D \n",
      "  E E E E E E E E E \n",
      "    F F F F F F F \n",
      "      G G G G G \n",
      "        H H H \n",
      "          I \n"
     ]
    }
   ],
   "source": [
    "#Character Diamond pattern\n",
    "n=5\n",
    "p=65\n",
    "for i in range(n-1):\n",
    "    for j in range(i,n):\n",
    "        print(\" \",end=\" \")\n",
    "    for j in range(i):\n",
    "        print(chr(p),end=\" \")\n",
    "    for j in range(i+1):\n",
    "        print(chr(p),end=\" \")\n",
    "    p+=1    \n",
    "    print()\n",
    "for i in range(n):\n",
    "    for j in range(i+1):\n",
    "        print(\" \",end=\" \")\n",
    "    for j in range(i,n-1):\n",
    "        print(chr(p),end=\" \")\n",
    "    for j in range(i,n):\n",
    "        print(chr(p),end=\" \")\n",
    "    p+=1    \n",
    "    print()"
   ]
  },
  {
   "cell_type": "code",
   "execution_count": 30,
   "id": "e84ea0e3-d175-4ac6-8822-e58cf997ae51",
   "metadata": {},
   "outputs": [
    {
     "name": "stdout",
     "output_type": "stream",
     "text": [
      "          A \n",
      "        B B B \n",
      "      C C C C C \n",
      "    D D D D D D D \n",
      "  E E E E E E E E E \n",
      "    G G G G G G G \n",
      "      I I I I I \n",
      "        K K K \n",
      "          M \n"
     ]
    }
   ],
   "source": [
    "n=5\n",
    "p=65\n",
    "for i in range(n-1):\n",
    "    for j in range(i,n):\n",
    "        print(\" \",end=\" \")\n",
    "    for j in range(i):\n",
    "        print(chr(p),end=\" \")\n",
    "    for j in range(i+1):\n",
    "        print(chr(p),end=\" \")\n",
    "    p+=1    \n",
    "    print()\n",
    "for i in range(n):\n",
    "    for j in range(i+1):\n",
    "        print(\" \",end=\" \")\n",
    "    for j in range(i,n-1):\n",
    "        print(chr(p),end=\" \")\n",
    "    for j in range(i,n):\n",
    "        print(chr(p),end=\" \")\n",
    "    p+=2    \n",
    "    print()"
   ]
  },
  {
   "cell_type": "code",
   "execution_count": 31,
   "id": "de07b437-1007-41c6-81df-1392d84a1773",
   "metadata": {},
   "outputs": [
    {
     "name": "stdout",
     "output_type": "stream",
     "text": [
      "          A \n",
      "        B B B \n",
      "      C C C C C \n",
      "    D D D D D D D \n",
      "  a a a a a a a a a \n",
      "    b b b b b b b \n",
      "      c c c c c \n",
      "        d d d \n",
      "          e \n"
     ]
    }
   ],
   "source": [
    "n=5\n",
    "p=65\n",
    "for i in range(n-1):\n",
    "    for j in range(i,n):\n",
    "        print(\" \",end=\" \")\n",
    "    for j in range(i):\n",
    "        print(chr(p),end=\" \")\n",
    "    for j in range(i+1):\n",
    "        print(chr(p),end=\" \")\n",
    "    p+=1    \n",
    "    print()\n",
    "q=97    \n",
    "for i in range(n):\n",
    "    for j in range(i+1):\n",
    "        print(\" \",end=\" \")\n",
    "    for j in range(i,n-1):\n",
    "        print(chr(q),end=\" \")\n",
    "    for j in range(i,n):\n",
    "        print(chr(q),end=\" \")\n",
    "    q+=1    \n",
    "    print()"
   ]
  },
  {
   "cell_type": "code",
   "execution_count": 33,
   "id": "03331e48-02b2-4689-b871-f21dece36cd0",
   "metadata": {},
   "outputs": [
    {
     "name": "stdout",
     "output_type": "stream",
     "text": [
      "          A \n",
      "        B B B \n",
      "      C C C C C \n",
      "    D D D D D D D \n",
      "  E E E E E E E E E \n",
      "    D D D D D D D \n",
      "      C C C C C \n",
      "        B B B \n",
      "          A \n"
     ]
    }
   ],
   "source": [
    "n=5\n",
    "p=65\n",
    "for i in range(n-1):\n",
    "    for j in range(i,n):\n",
    "        print(\" \",end=\" \")\n",
    "    for j in range(i):\n",
    "        print(chr(p),end=\" \")\n",
    "    for j in range(i+1):\n",
    "        print(chr(p),end=\" \")\n",
    "    p+=1    \n",
    "    print()\n",
    "for i in range(n):\n",
    "    for j in range(i+1):\n",
    "        print(\" \",end=\" \")\n",
    "    for j in range(i,n-1):\n",
    "        print(chr(p),end=\" \")\n",
    "    for j in range(i,n):\n",
    "        print(chr(p),end=\" \")\n",
    "    p-=1    \n",
    "    print()"
   ]
  },
  {
   "cell_type": "code",
   "execution_count": 34,
   "id": "966d05cc-ebee-4990-a4d1-1e833559543e",
   "metadata": {},
   "outputs": [
    {
     "name": "stdout",
     "output_type": "stream",
     "text": [
      "A \n",
      "B B \n",
      "C C C \n",
      "D D D D \n",
      "E E E E E \n"
     ]
    }
   ],
   "source": [
    "n=5\n",
    "p=65\n",
    "for i in range(n):\n",
    "    for j in range(i+1):\n",
    "        print(chr(p),end=\" \")\n",
    "    p+=1    \n",
    "    print()"
   ]
  },
  {
   "cell_type": "code",
   "execution_count": 36,
   "id": "9dbccea1-237a-476b-9445-566fa42168c3",
   "metadata": {},
   "outputs": [
    {
     "name": "stdout",
     "output_type": "stream",
     "text": [
      "A \n",
      "A B \n",
      "A B C \n",
      "A B C D \n",
      "A B C D E \n"
     ]
    }
   ],
   "source": [
    "n=5\n",
    "for i in range(n):\n",
    "    p=65\n",
    "    for j in range(i+1):\n",
    "        print(chr(p),end=\" \")\n",
    "        p+=1\n",
    "    print()"
   ]
  },
  {
   "cell_type": "code",
   "execution_count": 37,
   "id": "f8a09e43-4b03-442b-891f-f9a718cfb3fd",
   "metadata": {},
   "outputs": [
    {
     "name": "stdout",
     "output_type": "stream",
     "text": [
      "A B C D E \n",
      "A B C D \n",
      "A B C \n",
      "A B \n",
      "A \n"
     ]
    }
   ],
   "source": [
    "#Left triangle\n",
    "n=5\n",
    "for i in range(n):\n",
    "    p=65\n",
    "    for j in range(i,n):\n",
    "        print(chr(p),end=\" \")\n",
    "        p+=1\n",
    "    print()"
   ]
  },
  {
   "cell_type": "code",
   "execution_count": 38,
   "id": "94535bb8-559d-4780-9c7c-9769c9f94c94",
   "metadata": {},
   "outputs": [
    {
     "name": "stdout",
     "output_type": "stream",
     "text": [
      "\n",
      "A \n",
      "A B \n",
      "A B C \n",
      "A B C D \n"
     ]
    }
   ],
   "source": [
    "n=5\n",
    "for i in range(n):\n",
    "    p=65\n",
    "    for j in range(i):\n",
    "        print(chr(p),end=\" \")\n",
    "        p+=1\n",
    "    print()"
   ]
  },
  {
   "cell_type": "code",
   "execution_count": 41,
   "id": "4243a61e-fd4c-46d6-a5e4-ed2d56590149",
   "metadata": {},
   "outputs": [
    {
     "name": "stdout",
     "output_type": "stream",
     "text": [
      "        A \n",
      "      A B C \n",
      "    A B C D E \n",
      "  A B C D E F G \n",
      "A B C D E F G H I \n"
     ]
    }
   ],
   "source": [
    "#Hill Pattern\n",
    "for i in range(n):\n",
    "    p=65\n",
    "    for j in range(i,n-1):\n",
    "        print(\" \",end=\" \")\n",
    "    for j in range(i):\n",
    "        print(chr(p),end=\" \")\n",
    "        p+=1\n",
    "    for j in range(i+1):\n",
    "        print(chr(p),end=\" \")\n",
    "        p+=1\n",
    "    print()"
   ]
  },
  {
   "cell_type": "code",
   "execution_count": 42,
   "id": "4336583f-a318-4ce0-9f51-b15669e24d34",
   "metadata": {},
   "outputs": [
    {
     "name": "stdout",
     "output_type": "stream",
     "text": [
      "A B C D E \n",
      "  A B C D \n",
      "    A B C \n",
      "      A B \n",
      "        A \n"
     ]
    }
   ],
   "source": [
    "n=5\n",
    "for i in range(n):\n",
    "    p=65\n",
    "    for j in range(i):\n",
    "        print(\" \",end=\" \")\n",
    "    for j in range(i,n):\n",
    "        print(chr(p),end=\" \")\n",
    "        p+=1\n",
    "    print()"
   ]
  },
  {
   "cell_type": "code",
   "execution_count": 48,
   "id": "6f713ef1-0e49-4492-944c-5eb0b67d1cc9",
   "metadata": {},
   "outputs": [
    {
     "name": "stdout",
     "output_type": "stream",
     "text": [
      "        A \n",
      "      A B C \n",
      "    A B C D E \n",
      "  A B C D E F G \n",
      "  A B C D E F G H I \n",
      "    A B C D E F G \n",
      "      A B C D E \n",
      "        A B C \n",
      "          A \n"
     ]
    }
   ],
   "source": [
    "n=5\n",
    "for i in range(n-1):\n",
    "    p=65\n",
    "    for j in range(i,n-1):\n",
    "        print(\" \",end=\" \")\n",
    "    for j in range(i):\n",
    "        print(chr(p),end=\" \")\n",
    "        p+=1\n",
    "    for j in range(i+1):\n",
    "        print(chr(p),end=\" \")\n",
    "        p+=1\n",
    "    print()   \n",
    "for i in range(n):\n",
    "    p=65\n",
    "    for j in range(i+1):\n",
    "        print(\" \",end=\" \")\n",
    "    for j in range(i,n-1):\n",
    "        print(chr(p),end=\" \")\n",
    "        p+=1\n",
    "    for j in range(i,n):\n",
    "         print(chr(p),end=\" \")\n",
    "         p+=1\n",
    "    print()"
   ]
  },
  {
   "cell_type": "code",
   "execution_count": 49,
   "id": "9a673e2b-37a3-491a-8954-c18fb106ed45",
   "metadata": {},
   "outputs": [
    {
     "name": "stdout",
     "output_type": "stream",
     "text": [
      "E \n",
      "E D \n",
      "E D C \n",
      "E D C B \n",
      "E D C B A \n"
     ]
    }
   ],
   "source": [
    "n=5\n",
    "for i in range(n):\n",
    "    p=69\n",
    "    for j in range(i+1):\n",
    "        print(chr(p),end=\" \")\n",
    "        p-=1\n",
    "    print()"
   ]
  },
  {
   "cell_type": "code",
   "execution_count": 50,
   "id": "dbb43d14-aae2-4d6b-ab94-d8dc4e0303e2",
   "metadata": {},
   "outputs": [
    {
     "name": "stdout",
     "output_type": "stream",
     "text": [
      "  E D C B A \n",
      "    E D C B \n",
      "      E D C \n",
      "        E D \n",
      "          E \n"
     ]
    }
   ],
   "source": [
    "#Left triangle character\n",
    "n=5\n",
    "for i in range(n):\n",
    "    p=69\n",
    "    for j in range(i+1):\n",
    "        print(\" \",end=\" \")\n",
    "    for j in range(i,n):\n",
    "        print(chr(p),end=\" \")\n",
    "        p-=1\n",
    "    print()"
   ]
  },
  {
   "cell_type": "code",
   "execution_count": 51,
   "id": "5f613a4d-49b0-4cb4-a780-ad8afcfe4f73",
   "metadata": {},
   "outputs": [
    {
     "name": "stdout",
     "output_type": "stream",
     "text": [
      "          E \n",
      "        E D C \n",
      "      E D C B A \n",
      "    E D C B A @ ? \n",
      "  E D C B A @ ? > = \n"
     ]
    }
   ],
   "source": [
    "n=5\n",
    "for i in range(n):\n",
    "    p=69\n",
    "    for j in range(i,n):\n",
    "        print(\" \",end=\" \")\n",
    "    for j in range(i):\n",
    "        print(chr(p),end=\" \")\n",
    "        p-=1\n",
    "    for j in range(i+1):\n",
    "        print(chr(p),end=\" \")\n",
    "        p-=1\n",
    "    print()"
   ]
  },
  {
   "cell_type": "code",
   "execution_count": 52,
   "id": "065196e9-0d68-483a-9a7b-fb40ced9ad53",
   "metadata": {},
   "outputs": [
    {
     "name": "stdout",
     "output_type": "stream",
     "text": [
      "  E D C B A \n",
      "    D C B A \n",
      "      C B A \n",
      "        B A \n",
      "          A \n"
     ]
    }
   ],
   "source": [
    "n=5\n",
    "k=69\n",
    "for i in range(n):\n",
    "    p=k\n",
    "    for j in range(i+1):\n",
    "        print(\" \",end=\" \")\n",
    "    for j in range(i,n):\n",
    "        print(chr(p),end=\" \")\n",
    "        p-=1\n",
    "    k-=1    \n",
    "    print()"
   ]
  },
  {
   "cell_type": "code",
   "execution_count": 53,
   "id": "eeed5d18-2bac-4852-96d1-982e23b883ab",
   "metadata": {},
   "outputs": [
    {
     "name": "stdout",
     "output_type": "stream",
     "text": [
      "          A \n",
      "        A B A \n",
      "      A B C B A \n",
      "    A B C D C B A \n",
      "  A B C D E D C B A \n"
     ]
    }
   ],
   "source": [
    "n=5\n",
    "for i in range(n):\n",
    "    p=65\n",
    "    for j in range(i,n):\n",
    "        print(\" \",end=\" \")\n",
    "    for j in range(i):\n",
    "        print(chr(p),end=\" \")\n",
    "        p+=1\n",
    "    for j in range(i+1):\n",
    "        print(chr(p),end=\" \")\n",
    "        p-=1 \n",
    "    print()"
   ]
  },
  {
   "cell_type": "code",
   "execution_count": 54,
   "id": "269dd759-08b8-45bd-9d2c-431fe72a9fbd",
   "metadata": {},
   "outputs": [
    {
     "name": "stdout",
     "output_type": "stream",
     "text": [
      "C \n",
      "O O \n",
      "D D D \n",
      "E E E E \n",
      "R R R R R \n"
     ]
    }
   ],
   "source": [
    "s=\"CODER\"\n",
    "n=len(s)\n",
    "p=0\n",
    "for i in range(n):\n",
    "    for j in range(i+1):\n",
    "        print(s[p],end=\" \")\n",
    "    p+=1    \n",
    "    print()"
   ]
  },
  {
   "cell_type": "code",
   "execution_count": 55,
   "id": "2000cfb0-d0ba-41f7-aaaa-90e5887bac10",
   "metadata": {},
   "outputs": [
    {
     "name": "stdout",
     "output_type": "stream",
     "text": [
      "U \n",
      "S S \n",
      "M M M \n",
      "A A A A \n",
      "N N N N N \n"
     ]
    }
   ],
   "source": [
    "s=\"USMAN\"\n",
    "n=len(s)\n",
    "p=0\n",
    "for i in range(n):\n",
    "    for j in range(i+1):\n",
    "        print(s[p],end=\" \")\n",
    "    p+=1    \n",
    "    print()"
   ]
  },
  {
   "cell_type": "code",
   "execution_count": 56,
   "id": "eebe7461-02ca-4b36-aeaa-6be7d068f927",
   "metadata": {},
   "outputs": [
    {
     "name": "stdout",
     "output_type": "stream",
     "text": [
      "P \n",
      "R R \n",
      "O O O \n",
      "G G G G \n",
      "R R R R R \n",
      "A A A A A A \n",
      "M M M M M M M \n"
     ]
    }
   ],
   "source": [
    "s=\"PROGRAM\"\n",
    "n=len(s)\n",
    "p=0\n",
    "for i in range(n):\n",
    "    for j in range(i+1):\n",
    "        print(s[p],end=\" \")\n",
    "    p+=1    \n",
    "    print()"
   ]
  },
  {
   "cell_type": "code",
   "execution_count": 57,
   "id": "04bec563-26a6-4e46-8979-d9324ac1d093",
   "metadata": {},
   "outputs": [
    {
     "name": "stdout",
     "output_type": "stream",
     "text": [
      "C C C C C \n",
      "O O O O \n",
      "D D D \n",
      "E E \n",
      "R \n"
     ]
    }
   ],
   "source": [
    "a=\"CODER\"\n",
    "n=len(a)\n",
    "p=0\n",
    "for i in range(n):\n",
    "    for j in range(i,n):\n",
    "        print(a[p],end=\" \")\n",
    "    p+=1    \n",
    "    print()"
   ]
  },
  {
   "cell_type": "code",
   "execution_count": 58,
   "id": "7fd3acf6-7c47-4e08-bc6f-8a4fe2c439ea",
   "metadata": {},
   "outputs": [
    {
     "name": "stdout",
     "output_type": "stream",
     "text": [
      "C C C C C \n",
      "R R R R \n",
      "E E E \n",
      "D D \n",
      "O \n"
     ]
    }
   ],
   "source": [
    "a=\"CODER\"\n",
    "n=len(a)\n",
    "p=0\n",
    "for i in range(n):\n",
    "    for j in range(i,n):\n",
    "        print(a[p],end=\" \")\n",
    "    p-=1    \n",
    "    print()"
   ]
  },
  {
   "cell_type": "code",
   "execution_count": 1,
   "id": "a14536b6-a439-4756-8617-9199742c6bb4",
   "metadata": {},
   "outputs": [
    {
     "name": "stdout",
     "output_type": "stream",
     "text": [
      "  C C C C C \n",
      "    O O O O \n",
      "      D D D \n",
      "        E E \n",
      "          R \n"
     ]
    }
   ],
   "source": [
    "#Left Triangle\n",
    "s=\"CODER\"\n",
    "n=len(s)\n",
    "p=0\n",
    "for i in range(n):\n",
    "    for j in range(i+1):\n",
    "        print(\" \",end=\" \")\n",
    "    for j in range(i,n):\n",
    "        print(s[p],end=\" \")\n",
    "    p+=1    \n",
    "    print()"
   ]
  },
  {
   "cell_type": "code",
   "execution_count": 2,
   "id": "bf41528e-74a1-43e7-b5c7-bb2da19843f8",
   "metadata": {},
   "outputs": [
    {
     "name": "stdout",
     "output_type": "stream",
     "text": [
      "        C \n",
      "      O O O \n",
      "    D D D D D \n",
      "  E E E E E E E \n",
      "R R R R R R R R R \n"
     ]
    }
   ],
   "source": [
    "s=\"CODER\"\n",
    "n=len(s)\n",
    "p=0\n",
    "for i in range(n):\n",
    "    for j in range(i,n-1):\n",
    "        print(\" \",end=\" \")\n",
    "    for j in range(i):\n",
    "        print(s[p],end=\" \")\n",
    "    for j in range(i+1):\n",
    "        print(s[p],end=\" \")\n",
    "    p+=1    \n",
    "    print()"
   ]
  },
  {
   "cell_type": "code",
   "execution_count": 4,
   "id": "50115c7d-f5fd-4db8-872b-5ee4fd13cead",
   "metadata": {},
   "outputs": [
    {
     "name": "stdout",
     "output_type": "stream",
     "text": [
      "        C \n",
      "      O O O \n",
      "    D D D D D \n",
      "  E E E E E E E \n",
      "  C C C C C C C C C \n",
      "    R R R R R R R \n",
      "      E E E E E \n",
      "        D D D \n",
      "          O \n"
     ]
    }
   ],
   "source": [
    "s=\"CODER\"\n",
    "n=len(s)\n",
    "p=0\n",
    "for i in range(n-1):\n",
    "    for j in range(i,n-1):\n",
    "        print(\" \",end=\" \")\n",
    "    for j in range(i):\n",
    "        print(s[p],end=\" \")\n",
    "    for j in range(i+1):\n",
    "        print(s[p],end=\" \")\n",
    "    p+=1    \n",
    "    print()\n",
    "s=\"CODER\"\n",
    "n=len(s)\n",
    "p=0\n",
    "for i in range(n):\n",
    "    for j in range(i+1):\n",
    "        print(\" \",end=\" \")\n",
    "    for j in range(i,n-1):\n",
    "        print(s[p],end=\" \")\n",
    "    for j in range(i,n):\n",
    "        print(s[p],end=\" \")\n",
    "    p-=1    \n",
    "    print()"
   ]
  },
  {
   "cell_type": "code",
   "execution_count": 5,
   "id": "84443fe4-29a7-43f9-b340-89a2f358883b",
   "metadata": {},
   "outputs": [
    {
     "name": "stdout",
     "output_type": "stream",
     "text": [
      "R \n",
      "E E \n",
      "D D D \n",
      "O O O O \n",
      "C C C C C \n"
     ]
    }
   ],
   "source": [
    "s=\"CODER\"\n",
    "n=len(s)\n",
    "p=n-1\n",
    "for i in range(n):\n",
    "    for j in range(i+1):\n",
    "        print(s[p],end=\" \")\n",
    "    p-=1    \n",
    "    print()"
   ]
  },
  {
   "cell_type": "code",
   "execution_count": 7,
   "id": "b51d96ac-d151-48d5-985a-001fe5b07261",
   "metadata": {},
   "outputs": [
    {
     "name": "stdout",
     "output_type": "stream",
     "text": [
      "  R R R R R \n",
      "    E E E E \n",
      "      D D D \n",
      "        O O \n",
      "          C \n"
     ]
    }
   ],
   "source": [
    "s=\"CODER\"\n",
    "n=len(s)\n",
    "p=n-1\n",
    "for i in range(n):\n",
    "    for j in range(i+1):\n",
    "        print(\" \",end=\" \")\n",
    "    for j in range(i,n):\n",
    "        print(s[p],end=\" \")\n",
    "    p-=1    \n",
    "    print()"
   ]
  },
  {
   "cell_type": "code",
   "execution_count": 8,
   "id": "58787801-e901-41a9-b472-025dbeb45b64",
   "metadata": {},
   "outputs": [
    {
     "name": "stdout",
     "output_type": "stream",
     "text": [
      "        R \n",
      "      E E E \n",
      "    D D D D D \n",
      "  O O O O O O O \n",
      "C C C C C C C C C \n"
     ]
    }
   ],
   "source": [
    "s=\"CODER\"\n",
    "n=len(s)\n",
    "p=n-1\n",
    "for i in range(n):\n",
    "    for j in range(i,n-1):\n",
    "        print(\" \",end=\" \")\n",
    "    for j in range(i):\n",
    "        print(s[p],end=\" \")\n",
    "    for j in range(i+1):\n",
    "        print(s[p],end=\" \")\n",
    "    p-=1    \n",
    "    print()"
   ]
  },
  {
   "cell_type": "code",
   "execution_count": 11,
   "id": "b50cf17e-d1a6-46c1-b83e-44a0afe903b0",
   "metadata": {},
   "outputs": [
    {
     "name": "stdout",
     "output_type": "stream",
     "text": [
      "        R \n",
      "      E E E \n",
      "    D D D D D \n",
      "  O O O O O O O \n",
      "  R R R R R R R R R \n",
      "    E E E E E E E \n",
      "      D D D D D \n",
      "        O O O \n",
      "          C \n"
     ]
    }
   ],
   "source": [
    "s=\"CODER\"\n",
    "n=len(s)\n",
    "p=n-1\n",
    "for i in range(n-1):\n",
    "    for j in range(i,n-1):\n",
    "        print(\" \",end=\" \")\n",
    "    for j in range(i):\n",
    "        print(s[p],end=\" \")\n",
    "    for j in range(i+1):\n",
    "        print(s[p],end=\" \")\n",
    "    p-=1    \n",
    "    print()\n",
    "s=\"CODER\"\n",
    "n=len(s)\n",
    "p=n-1\n",
    "for i in range(n):\n",
    "    for j in range(i+1):\n",
    "        print(\" \",end=\" \")\n",
    "    for j in range(i,n-1):\n",
    "        print(s[p],end=\" \")\n",
    "    for j in range(i,n):\n",
    "        print(s[p],end=\" \")\n",
    "    p-=1\n",
    "    print()"
   ]
  },
  {
   "cell_type": "code",
   "execution_count": 12,
   "id": "633ece3a-e705-433d-8324-f5ce44b3877f",
   "metadata": {},
   "outputs": [
    {
     "name": "stdout",
     "output_type": "stream",
     "text": [
      "C \n",
      "C O \n",
      "C O D \n",
      "C O D E \n",
      "C O D E R \n"
     ]
    }
   ],
   "source": [
    "s=\"CODER\"\n",
    "n=len(s)\n",
    "for i in range(n):\n",
    "    p=0\n",
    "    for j in range(i+1):\n",
    "        print(s[p],end=\" \")\n",
    "        p+=1\n",
    "    print()"
   ]
  },
  {
   "cell_type": "code",
   "execution_count": 13,
   "id": "8e10e79f-e3d2-431e-8ac8-a12a7ec9c60c",
   "metadata": {},
   "outputs": [
    {
     "name": "stdout",
     "output_type": "stream",
     "text": [
      "  C O D E R \n",
      "    C O D E \n",
      "      C O D \n",
      "        C O \n",
      "          C \n"
     ]
    }
   ],
   "source": [
    "s=\"CODER\"\n",
    "n=len(s)\n",
    "for i in range(n):\n",
    "    for j in range(i+1):\n",
    "        p=0\n",
    "        print(\" \",end=\" \")\n",
    "    for j in range(i,n):\n",
    "        print(s[p],end=\" \")\n",
    "        p+=1\n",
    "    print()"
   ]
  },
  {
   "cell_type": "code",
   "execution_count": 18,
   "id": "3c160a17-eb63-44be-aed8-9a031b3867f9",
   "metadata": {},
   "outputs": [
    {
     "name": "stdout",
     "output_type": "stream",
     "text": [
      "        C \n",
      "      C C C \n",
      "    C C C C C \n",
      "  C C C C C C C \n",
      "O O O O O O O O O \n"
     ]
    }
   ],
   "source": [
    "s=\"CODER\"\n",
    "n=len(s)\n",
    "for i in range(n):\n",
    "    for j in range(i,n-1):\n",
    "        p=0\n",
    "        print(\" \",end=\" \")\n",
    "    for j in range(i):\n",
    "        print(s[p],end=\" \")\n",
    "    for j in range(i+1):\n",
    "        print(s[p],end=\" \")\n",
    "        p+=1\n",
    "    print()"
   ]
  },
  {
   "cell_type": "code",
   "execution_count": 19,
   "id": "4e692c32-a255-4295-8bd0-e2e571215f4c",
   "metadata": {},
   "outputs": [
    {
     "name": "stdout",
     "output_type": "stream",
     "text": [
      "R \n",
      "R E \n",
      "R E D \n",
      "R E D O \n",
      "R E D O C \n"
     ]
    }
   ],
   "source": [
    "s=\"CODER\"\n",
    "n=len(s)\n",
    "for i in range(n):\n",
    "    p=n-1\n",
    "    for j in range(i+1):\n",
    "        print(s[p],end=\" \")\n",
    "        p-=1\n",
    "    print()"
   ]
  },
  {
   "cell_type": "code",
   "execution_count": 20,
   "id": "7125e130-8749-40ae-b518-89a9fc6e386b",
   "metadata": {},
   "outputs": [
    {
     "name": "stdout",
     "output_type": "stream",
     "text": [
      "  R E D O C \n",
      "    R E D O \n",
      "      R E D \n",
      "        R E \n",
      "          R \n"
     ]
    }
   ],
   "source": [
    "s=\"CODER\"\n",
    "n=len(s)\n",
    "for i in range(n):\n",
    "    p=n-1\n",
    "    for j in range(i+1):\n",
    "        print(\" \",end=\" \")\n",
    "    for j in range(i,n):\n",
    "        print(s[p],end=\" \")\n",
    "        p-=1\n",
    "    print()"
   ]
  },
  {
   "cell_type": "code",
   "execution_count": 21,
   "id": "3441cfbb-1955-485a-b73b-5ae07a7b1ea2",
   "metadata": {},
   "outputs": [
    {
     "name": "stdout",
     "output_type": "stream",
     "text": [
      "  R E D O C \n",
      "    E D O C \n",
      "      D O C \n",
      "        O C \n",
      "          C \n"
     ]
    }
   ],
   "source": [
    "s=\"CODER\"\n",
    "n=len(s)\n",
    "k=n-1  #Initialization in outer loop\n",
    "for i in range(n):\n",
    "    p=k\n",
    "    for j in range(i+1):\n",
    "        print(\" \",end=\" \")\n",
    "    for j in range(i,n):\n",
    "        print(s[p],end=\" \")\n",
    "        p-=1\n",
    "    print()\n",
    "    k-=1   #To decide first letter of each row"
   ]
  },
  {
   "cell_type": "code",
   "execution_count": null,
   "id": "27a4e32a-5068-4fc9-a6af-91b91333a157",
   "metadata": {},
   "outputs": [],
   "source": []
  }
 ],
 "metadata": {
  "kernelspec": {
   "display_name": "Python 3 (ipykernel)",
   "language": "python",
   "name": "python3"
  },
  "language_info": {
   "codemirror_mode": {
    "name": "ipython",
    "version": 3
   },
   "file_extension": ".py",
   "mimetype": "text/x-python",
   "name": "python",
   "nbconvert_exporter": "python",
   "pygments_lexer": "ipython3",
   "version": "3.11.7"
  }
 },
 "nbformat": 4,
 "nbformat_minor": 5
}
